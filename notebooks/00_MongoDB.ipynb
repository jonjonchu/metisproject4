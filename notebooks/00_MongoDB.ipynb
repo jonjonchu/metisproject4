{
 "cells": [
  {
   "cell_type": "markdown",
   "metadata": {},
   "source": [
    "# 00_MongoDB\n",
    "BOB! Do something!"
   ]
  },
  {
   "cell_type": "code",
   "execution_count": null,
   "metadata": {
    "ExecuteTime": {
     "start_time": "2020-05-11T22:58:05.153Z"
    }
   },
   "outputs": [],
   "source": [
    "import pandas as pd\n",
    "from pymongo import MongoClient\n",
    "import mongo_configs"
   ]
  },
  {
   "cell_type": "markdown",
   "metadata": {},
   "source": [
    "# Setup\n",
    "```mongodb``` connection configuration, reading csv file to pd DataFrame."
   ]
  },
  {
   "cell_type": "markdown",
   "metadata": {},
   "source": [
    "## MongoDB configs"
   ]
  },
  {
   "cell_type": "code",
   "execution_count": null,
   "metadata": {
    "ExecuteTime": {
     "start_time": "2020-05-11T22:58:06.479Z"
    }
   },
   "outputs": [],
   "source": [
    "mongo_configs.remote_config"
   ]
  },
  {
   "cell_type": "code",
   "execution_count": null,
   "metadata": {
    "ExecuteTime": {
     "start_time": "2020-05-11T22:58:07.678Z"
    }
   },
   "outputs": [],
   "source": [
    "mongo_configs.local_config"
   ]
  },
  {
   "cell_type": "markdown",
   "metadata": {},
   "source": [
    "## Import data from .csv as DataFrame"
   ]
  },
  {
   "cell_type": "code",
   "execution_count": 3,
   "metadata": {
    "ExecuteTime": {
     "end_time": "2020-05-11T22:28:49.572530Z",
     "start_time": "2020-05-11T22:28:49.554627Z"
    }
   },
   "outputs": [],
   "source": [
    "path_to_data = './data/'"
   ]
  },
  {
   "cell_type": "code",
   "execution_count": 4,
   "metadata": {
    "ExecuteTime": {
     "end_time": "2020-05-11T22:28:51.446668Z",
     "start_time": "2020-05-11T22:28:49.601513Z"
    }
   },
   "outputs": [],
   "source": [
    "df = pd.read_csv(path_to_data+'reddit_worldnews_start_to_2016-11-22.csv')\n",
    "\n",
    "df.reset_index(inplace=True)"
   ]
  },
  {
   "cell_type": "code",
   "execution_count": 5,
   "metadata": {
    "ExecuteTime": {
     "end_time": "2020-05-11T22:28:51.628915Z",
     "start_time": "2020-05-11T22:28:51.451308Z"
    }
   },
   "outputs": [
    {
     "name": "stdout",
     "output_type": "stream",
     "text": [
      "<class 'pandas.core.frame.DataFrame'>\n",
      "RangeIndex: 509236 entries, 0 to 509235\n",
      "Data columns (total 9 columns):\n",
      " #   Column        Non-Null Count   Dtype \n",
      "---  ------        --------------   ----- \n",
      " 0   index         509236 non-null  int64 \n",
      " 1   time_created  509236 non-null  int64 \n",
      " 2   date_created  509236 non-null  object\n",
      " 3   up_votes      509236 non-null  int64 \n",
      " 4   down_votes    509236 non-null  int64 \n",
      " 5   title         509236 non-null  object\n",
      " 6   over_18       509236 non-null  bool  \n",
      " 7   author        509236 non-null  object\n",
      " 8   subreddit     509236 non-null  object\n",
      "dtypes: bool(1), int64(4), object(4)\n",
      "memory usage: 31.6+ MB\n"
     ]
    }
   ],
   "source": [
    "df.info()"
   ]
  },
  {
   "cell_type": "markdown",
   "metadata": {},
   "source": [
    "# Start Mongo"
   ]
  },
  {
   "cell_type": "code",
   "execution_count": 6,
   "metadata": {
    "ExecuteTime": {
     "end_time": "2020-05-11T22:28:51.670948Z",
     "start_time": "2020-05-11T22:28:51.638550Z"
    }
   },
   "outputs": [],
   "source": [
    "local_client = MongoClient(**mongo_configs.local_config)\n",
    "remote_client = MongoClient(**mongo_configs.remote_config)\n",
    "\n",
    "dbL = local_client.reddit\n",
    "dbR = remote_client.reddit"
   ]
  },
  {
   "cell_type": "code",
   "execution_count": 7,
   "metadata": {
    "ExecuteTime": {
     "end_time": "2020-05-11T22:29:01.653953Z",
     "start_time": "2020-05-11T22:28:51.685577Z"
    }
   },
   "outputs": [
    {
     "data": {
      "text/plain": [
       "[{'index': 0,\n",
       "  'time_created': 1201232046,\n",
       "  'date_created': '2008-01-25',\n",
       "  'up_votes': 3,\n",
       "  'down_votes': 0,\n",
       "  'title': 'Scores killed in Pakistan clashes',\n",
       "  'over_18': False,\n",
       "  'author': 'polar',\n",
       "  'subreddit': 'worldnews'},\n",
       " {'index': 1,\n",
       "  'time_created': 1201232075,\n",
       "  'date_created': '2008-01-25',\n",
       "  'up_votes': 2,\n",
       "  'down_votes': 0,\n",
       "  'title': 'Japan resumes refuelling mission',\n",
       "  'over_18': False,\n",
       "  'author': 'polar',\n",
       "  'subreddit': 'worldnews'}]"
      ]
     },
     "execution_count": 7,
     "metadata": {},
     "output_type": "execute_result"
    }
   ],
   "source": [
    "df_dict = df.to_dict(\"records\")\n",
    "df_dict[:2]"
   ]
  },
  {
   "cell_type": "code",
   "execution_count": 10,
   "metadata": {
    "ExecuteTime": {
     "end_time": "2020-05-11T22:49:40.033200Z",
     "start_time": "2020-05-11T22:32:56.394820Z"
    }
   },
   "outputs": [
    {
     "data": {
      "text/plain": [
       "<pymongo.results.InsertManyResult at 0x12e479460>"
      ]
     },
     "execution_count": 10,
     "metadata": {},
     "output_type": "execute_result"
    }
   ],
   "source": [
    "dbL.reddit.insert_many(df_dict)\n",
    "dbR.reddit.insert_many(df_dict)"
   ]
  },
  {
   "cell_type": "markdown",
   "metadata": {},
   "source": [
    "# Appendix"
   ]
  },
  {
   "cell_type": "code",
   "execution_count": null,
   "metadata": {
    "ExecuteTime": {
     "end_time": "2020-05-11T22:17:40.134902Z",
     "start_time": "2020-05-11T22:17:34.112Z"
    }
   },
   "outputs": [],
   "source": [
    "# mongo document form\n",
    "dict(df.loc[1])"
   ]
  },
  {
   "cell_type": "code",
   "execution_count": 12,
   "metadata": {
    "ExecuteTime": {
     "end_time": "2020-05-11T22:56:02.017039Z",
     "start_time": "2020-05-11T22:56:01.480312Z"
    }
   },
   "outputs": [
    {
     "data": {
      "text/plain": [
       "{'_id': ObjectId('5eb9d298414eeea544d25fc0'),\n",
       " 'index': 0,\n",
       " 'time_created': 1201232046,\n",
       " 'date_created': '2008-01-25',\n",
       " 'up_votes': 3,\n",
       " 'down_votes': 0,\n",
       " 'title': 'Scores killed in Pakistan clashes',\n",
       " 'over_18': False,\n",
       " 'author': 'polar',\n",
       " 'subreddit': 'worldnews'}"
      ]
     },
     "execution_count": 12,
     "metadata": {},
     "output_type": "execute_result"
    }
   ],
   "source": [
    "dbL.reddit.find_one()"
   ]
  },
  {
   "cell_type": "code",
   "execution_count": null,
   "metadata": {},
   "outputs": [],
   "source": []
  }
 ],
 "metadata": {
  "kernelspec": {
   "display_name": "Python [conda env:metis] *",
   "language": "python",
   "name": "conda-env-metis-py"
  },
  "language_info": {
   "codemirror_mode": {
    "name": "ipython",
    "version": 3
   },
   "file_extension": ".py",
   "mimetype": "text/x-python",
   "name": "python",
   "nbconvert_exporter": "python",
   "pygments_lexer": "ipython3",
   "version": "3.7.7"
  },
  "toc": {
   "base_numbering": 1,
   "nav_menu": {},
   "number_sections": true,
   "sideBar": true,
   "skip_h1_title": false,
   "title_cell": "Table of Contents",
   "title_sidebar": "Contents",
   "toc_cell": false,
   "toc_position": {},
   "toc_section_display": true,
   "toc_window_display": false
  },
  "varInspector": {
   "cols": {
    "lenName": 16,
    "lenType": 16,
    "lenVar": 40
   },
   "kernels_config": {
    "python": {
     "delete_cmd_postfix": "",
     "delete_cmd_prefix": "del ",
     "library": "var_list.py",
     "varRefreshCmd": "print(var_dic_list())"
    },
    "r": {
     "delete_cmd_postfix": ") ",
     "delete_cmd_prefix": "rm(",
     "library": "var_list.r",
     "varRefreshCmd": "cat(var_dic_list()) "
    }
   },
   "types_to_exclude": [
    "module",
    "function",
    "builtin_function_or_method",
    "instance",
    "_Feature"
   ],
   "window_display": false
  }
 },
 "nbformat": 4,
 "nbformat_minor": 4
}

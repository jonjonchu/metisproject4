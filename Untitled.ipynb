{
 "cells": [
  {
   "cell_type": "code",
   "execution_count": 1,
   "metadata": {
    "ExecuteTime": {
     "end_time": "2020-05-08T20:27:05.636227Z",
     "start_time": "2020-05-08T20:27:05.082368Z"
    }
   },
   "outputs": [],
   "source": [
    "import praw"
   ]
  },
  {
   "cell_type": "code",
   "execution_count": 3,
   "metadata": {
    "ExecuteTime": {
     "end_time": "2020-05-08T20:28:40.691443Z",
     "start_time": "2020-05-08T20:28:40.310635Z"
    }
   },
   "outputs": [],
   "source": [
    "reddit = praw.Reddit(client_id='PXT-gcieFwDCdg', \n",
    "                     client_secret='8DvgPSkTB74b_8yTz2pLGAO258s', \n",
    "                     user_agent=\"discovering tomorrow's meme\")"
   ]
  },
  {
   "cell_type": "code",
   "execution_count": 5,
   "metadata": {
    "ExecuteTime": {
     "end_time": "2020-05-08T20:28:53.304678Z",
     "start_time": "2020-05-08T20:28:52.904769Z"
    }
   },
   "outputs": [
    {
     "name": "stdout",
     "output_type": "stream",
     "text": [
      "Livethread 12: Global COVID-19 Pandemic\n",
      "Germany shuns Trump's claims Covid-19 outbreak was caused by Chinese lab leak - Internal report \"classifies the American claims as a calculated attempt to distract\" from Washington's own failings\n",
      "Germans in Berlin celebrating public holiday to mark end of Second World War for very first time. Normally 8 May passes without any significant attention, but for 2020 and the 75th anniversary, Berlin decided to declare it new public holiday for not only defeat of Nazism but rebirth of democracy.\n",
      "Venezuela’s opposition negotiated a $213 million deal with a US security company to invade the country and overthrow President Nicolas Maduro\n",
      "New Scientist News: Universal basic income seems to improve employment and well-being.\n",
      "Iran’s coronavirus cases jump 50% three weeks after country reopens with 1,485 new cases over the last 24 hours\n",
      "South African taxi driver charged with attempted murder for continuing to work after testing positive for Covid-19\n",
      "Germany passes law banning 'gay conversion therapy' for minors\n",
      "Trudeau thanks Taiwan directly for 'generous' mask donation\n",
      "American captured over Venezuelan coup plot says Donald Trump ordered plan\n"
     ]
    }
   ],
   "source": [
    "hot_posts = reddit.subreddit('worldnews').hot(limit=10)\n",
    "for post in hot_posts:\n",
    "    print(post.title)"
   ]
  },
  {
   "cell_type": "code",
   "execution_count": null,
   "metadata": {},
   "outputs": [],
   "source": []
  }
 ],
 "metadata": {
  "kernelspec": {
   "display_name": "Python [conda env:metis] *",
   "language": "python",
   "name": "conda-env-metis-py"
  },
  "language_info": {
   "codemirror_mode": {
    "name": "ipython",
    "version": 3
   },
   "file_extension": ".py",
   "mimetype": "text/x-python",
   "name": "python",
   "nbconvert_exporter": "python",
   "pygments_lexer": "ipython3",
   "version": "3.7.7"
  },
  "toc": {
   "base_numbering": 1,
   "nav_menu": {},
   "number_sections": true,
   "sideBar": true,
   "skip_h1_title": false,
   "title_cell": "Table of Contents",
   "title_sidebar": "Contents",
   "toc_cell": false,
   "toc_position": {},
   "toc_section_display": true,
   "toc_window_display": false
  },
  "varInspector": {
   "cols": {
    "lenName": 16,
    "lenType": 16,
    "lenVar": 40
   },
   "kernels_config": {
    "python": {
     "delete_cmd_postfix": "",
     "delete_cmd_prefix": "del ",
     "library": "var_list.py",
     "varRefreshCmd": "print(var_dic_list())"
    },
    "r": {
     "delete_cmd_postfix": ") ",
     "delete_cmd_prefix": "rm(",
     "library": "var_list.r",
     "varRefreshCmd": "cat(var_dic_list()) "
    }
   },
   "types_to_exclude": [
    "module",
    "function",
    "builtin_function_or_method",
    "instance",
    "_Feature"
   ],
   "window_display": false
  }
 },
 "nbformat": 4,
 "nbformat_minor": 4
}
